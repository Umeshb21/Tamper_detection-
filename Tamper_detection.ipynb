{
  "nbformat": 4,
  "nbformat_minor": 0,
  "metadata": {
    "colab": {
      "provenance": [],
      "toc_visible": true,
      "include_colab_link": true
    },
    "kernelspec": {
      "name": "python3",
      "display_name": "Python 3"
    },
    "language_info": {
      "name": "python"
    }
  },
  "cells": [
    {
      "cell_type": "markdown",
      "metadata": {
        "id": "view-in-github",
        "colab_type": "text"
      },
      "source": [
        "<a href=\"https://colab.research.google.com/github/Umeshb21/Tamper_detection-/blob/main/Tamper_detection.ipynb\" target=\"_parent\"><img src=\"https://colab.research.google.com/assets/colab-badge.svg\" alt=\"Open In Colab\"/></a>"
      ]
    },
    {
      "cell_type": "markdown",
      "source": [
        "#**Prototype that performs automatic tamper detection**"
      ],
      "metadata": {
        "id": "DgCDnk3w8AzJ"
      }
    },
    {
      "cell_type": "markdown",
      "source": [
        "**Random Forest-based classifier**"
      ],
      "metadata": {
        "id": "i_bWos8r8HzQ"
      }
    },
    {
      "cell_type": "code",
      "execution_count": null,
      "metadata": {
        "colab": {
          "base_uri": "https://localhost:8080/"
        },
        "id": "H0Wp5lfgi8BS",
        "outputId": "f0d2f7f3-b94b-4540-d65b-77d69627f063"
      },
      "outputs": [
        {
          "output_type": "stream",
          "name": "stdout",
          "text": [
            "Requirement already satisfied: pandas in /usr/local/lib/python3.11/dist-packages (2.2.2)\n",
            "Requirement already satisfied: scikit-learn in /usr/local/lib/python3.11/dist-packages (1.6.1)\n",
            "Requirement already satisfied: numpy>=1.23.2 in /usr/local/lib/python3.11/dist-packages (from pandas) (2.0.2)\n",
            "Requirement already satisfied: python-dateutil>=2.8.2 in /usr/local/lib/python3.11/dist-packages (from pandas) (2.9.0.post0)\n",
            "Requirement already satisfied: pytz>=2020.1 in /usr/local/lib/python3.11/dist-packages (from pandas) (2025.2)\n",
            "Requirement already satisfied: tzdata>=2022.7 in /usr/local/lib/python3.11/dist-packages (from pandas) (2025.2)\n",
            "Requirement already satisfied: scipy>=1.6.0 in /usr/local/lib/python3.11/dist-packages (from scikit-learn) (1.15.3)\n",
            "Requirement already satisfied: joblib>=1.2.0 in /usr/local/lib/python3.11/dist-packages (from scikit-learn) (1.5.0)\n",
            "Requirement already satisfied: threadpoolctl>=3.1.0 in /usr/local/lib/python3.11/dist-packages (from scikit-learn) (3.6.0)\n",
            "Requirement already satisfied: six>=1.5 in /usr/local/lib/python3.11/dist-packages (from python-dateutil>=2.8.2->pandas) (1.17.0)\n",
            "\n",
            "Classification Report:\n",
            "\n",
            "              precision    recall  f1-score   support\n",
            "\n",
            "           0       1.00      1.00      1.00         1\n",
            "           1       1.00      1.00      1.00         1\n",
            "\n",
            "    accuracy                           1.00         2\n",
            "   macro avg       1.00      1.00      1.00         2\n",
            "weighted avg       1.00      1.00      1.00         2\n",
            "\n"
          ]
        }
      ],
      "source": [
        "# Install required libraries (if not already installed)\n",
        "!pip install pandas scikit-learn\n",
        "\n",
        "# Step 1: Import Libraries\n",
        "import pandas as pd\n",
        "import numpy as np\n",
        "from sklearn.model_selection import train_test_split\n",
        "from sklearn.ensemble import RandomForestClassifier\n",
        "from sklearn.metrics import classification_report\n",
        "from sklearn.preprocessing import LabelEncoder\n",
        "import re\n",
        "\n",
        "# Step 2: Create Sample Certificate Dataset\n",
        "data = {\n",
        "    'certificate_id': ['GL-12345', 'GL-23456', 'GL-34567', 'GL-45678', 'GL-56789',\n",
        "                       'FAKE-123', 'GL-11111', '123-GL', 'GL-00000', 'GL-99999'],\n",
        "    'name': ['John Doe', 'Jane Smith', 'Alice Brown', 'Robert Gray', 'Chris Blue',\n",
        "             'Fake Name', 'Tampered User', 'Wrong Format', 'Invalid Entry', 'Forged Name'],\n",
        "    'course': ['AI Foundations', 'Machine Learning', 'Data Science', 'Python Basics', 'Cloud Fundamentals',\n",
        "               'Data Scam', 'AI Foundations', 'Random Stuff', 'Fake Course', 'Hacking 101'],\n",
        "    'issue_date': ['2023-06-01', '2023-07-15', '2023-08-01', '2023-09-10', '2023-10-20',\n",
        "                   '2025-10-15', '2019-01-01', '2022-03-03', '2030-01-01', '1999-12-31'],\n",
        "    'valid': [1, 1, 1, 1, 1, 0, 0, 0, 0, 0]  # 1 = valid, 0 = tampered\n",
        "}\n",
        "\n",
        "df = pd.DataFrame(data)\n",
        "\n",
        "# Step 3: Feature Engineering\n",
        "def is_valid_id(cert_id):\n",
        "    return 1 if re.match(r'^GL-\\d{5}$', cert_id) else 0\n",
        "\n",
        "def is_valid_course(course):\n",
        "    valid_courses = ['AI Foundations', 'Machine Learning', 'Data Science',\n",
        "                     'Python Basics', 'Cloud Fundamentals']\n",
        "    return 1 if course in valid_courses else 0\n",
        "\n",
        "def is_reasonable_date(date_str):\n",
        "    year = int(date_str.split('-')[0])\n",
        "    return 1 if 2020 <= year <= 2025 else 0\n",
        "\n",
        "df['valid_id_format'] = df['certificate_id'].apply(is_valid_id)\n",
        "df['valid_course'] = df['course'].apply(is_valid_course)\n",
        "df['valid_date'] = df['issue_date'].apply(is_reasonable_date)\n",
        "\n",
        "# Convert categorical features (e.g., name) using label encoding\n",
        "le = LabelEncoder()\n",
        "df['name_encoded'] = le.fit_transform(df['name'])\n",
        "\n",
        "# Select features\n",
        "features = ['valid_id_format', 'valid_course', 'valid_date', 'name_encoded']\n",
        "X = df[features]\n",
        "y = df['valid']\n",
        "\n",
        "# Step 4: Train Model\n",
        "X_train, X_test, y_train, y_test = train_test_split(X, y, test_size=0.2, random_state=42)\n",
        "model = RandomForestClassifier(random_state=42)\n",
        "model.fit(X_train, y_train)\n",
        "\n",
        "# Evaluate\n",
        "y_pred = model.predict(X_test)\n",
        "print(\"\\nClassification Report:\\n\")\n",
        "print(classification_report(y_test, y_pred))\n"
      ]
    },
    {
      "cell_type": "markdown",
      "source": [
        "#Predict on New User Input"
      ],
      "metadata": {
        "id": "ymch9Us38SNi"
      }
    },
    {
      "cell_type": "code",
      "source": [
        "def predict_certificate(certificate_id, name, course, issue_date):\n",
        "    features = {\n",
        "        'valid_id_format': is_valid_id(certificate_id),\n",
        "        'valid_course': is_valid_course(course),\n",
        "        'valid_date': is_reasonable_date(issue_date),\n",
        "        'name_encoded': le.transform([name])[0] if name in le.classes_ else -1\n",
        "    }\n",
        "    input_df = pd.DataFrame([features])\n",
        "    prediction = model.predict(input_df)[0]\n",
        "    return \"Valid Certificate ✅\" if prediction == 1 else \"Tampered/Invalid ❌\"\n",
        "\n",
        "# 🎯 Example Usage\n",
        "print(predict_certificate(\"GL-22222\", \"Jane Smith\", \"Machine Learning\", \"2023-08-12\"))\n",
        "print(predict_certificate(\"FAKE-999\", \"Hacker Man\", \"Malware Engineering\", \"2029-01-01\"))\n"
      ],
      "metadata": {
        "colab": {
          "base_uri": "https://localhost:8080/"
        },
        "id": "Qz1cjunti9-r",
        "outputId": "4c55352c-86d4-4778-eb9a-32a12524bafd"
      },
      "execution_count": null,
      "outputs": [
        {
          "output_type": "stream",
          "name": "stdout",
          "text": [
            "Valid Certificate ✅\n",
            "Tampered/Invalid ❌\n"
          ]
        }
      ]
    },
    {
      "cell_type": "markdown",
      "source": [
        "#PDF Metadata Analysis **(using PyPDF2)**"
      ],
      "metadata": {
        "id": "ZXvFP3wB8Y2V"
      }
    },
    {
      "cell_type": "code",
      "source": [
        "!pip install PyPDF2\n",
        "\n",
        "from PyPDF2 import PdfReader\n",
        "\n",
        "def analyze_pdf_metadata(file_path):\n",
        "    try:\n",
        "        reader = PdfReader(file_path)\n",
        "        metadata = reader.metadata\n",
        "        print(\"PDF Metadata:\")\n",
        "        for key, value in metadata.items():\n",
        "            print(f\"{key}: {value}\")\n",
        "\n",
        "        if '/ModDate' in metadata and '/CreationDate' in metadata:\n",
        "            mod_date = metadata['/ModDate']\n",
        "            create_date = metadata['/CreationDate']\n",
        "            if mod_date != create_date:\n",
        "                print(\"WARNING: PDF may have been modified after creation.\")\n",
        "            else:\n",
        "                print(\"PDF creation and modification dates match.\")\n",
        "        else:\n",
        "            print(\"Metadata missing creation or modification date.\")\n",
        "    except Exception as e:\n",
        "        print(\"Error reading PDF:\", e)\n",
        "\n",
        "\n",
        "analyze_pdf_metadata(\"/content/drive/MyDrive/AWS_Academy_Graduate___AWS_Academy_Cloud_Foundations_Badge20230916-28-cm7qfo.pdf\")\n"
      ],
      "metadata": {
        "colab": {
          "base_uri": "https://localhost:8080/"
        },
        "id": "SEHulFh11-dX",
        "outputId": "d5a5d46e-cb96-4b6c-f1e2-de4a0746bdcc"
      },
      "execution_count": null,
      "outputs": [
        {
          "output_type": "stream",
          "name": "stdout",
          "text": [
            "Requirement already satisfied: PyPDF2 in /usr/local/lib/python3.11/dist-packages (3.0.1)\n",
            "PDF Metadata:\n",
            "/Author: PDF Generator API\n",
            "/Keywords: Automated document generation with PDF Generator API. PDFLib:\n",
            "/Creator: PDF Generator API (https://pdfgeneratorapi.com)\n",
            "/Producer: TCPDF 6.6.5 (http://www.tcpdf.org)\n",
            "/CreationDate: D:20230916054729+00'00'\n",
            "/ModDate: D:20230916054729+00'00'\n",
            "/Trapped: /False\n",
            "PDF creation and modification dates match.\n"
          ]
        }
      ]
    }
  ]
}